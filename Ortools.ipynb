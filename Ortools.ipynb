{
  "nbformat": 4,
  "nbformat_minor": 0,
  "metadata": {
    "colab": {
      "provenance": []
    },
    "kernelspec": {
      "name": "python3",
      "display_name": "Python 3"
    },
    "language_info": {
      "name": "python"
    }
  },
  "cells": [
    {
      "cell_type": "code",
      "source": [
        "#pip install gmplot ortools"
      ],
      "metadata": {
        "id": "LvqTrGYTxK6O"
      },
      "execution_count": null,
      "outputs": []
    },
    {
      "cell_type": "code",
      "source": [
        "import torch"
      ],
      "metadata": {
        "id": "01iFiXpNtU3z"
      },
      "execution_count": null,
      "outputs": []
    },
    {
      "cell_type": "code",
      "source": [
        "import os\n",
        "import numpy as np\n",
        "import pandas as pd\n",
        "from sklearn.metrics.pairwise import haversine_distances"
      ],
      "metadata": {
        "id": "x57ZumaWtVTK"
      },
      "execution_count": null,
      "outputs": []
    },
    {
      "cell_type": "code",
      "source": [
        "from datetime import datetime\n",
        "import time\n",
        "import gmplot # построение HTML для визуализации\n",
        "from ortools.constraint_solver import routing_enums_pb2\n",
        "from ortools.constraint_solver import pywrapcp\n",
        "from numpy import mean"
      ],
      "metadata": {
        "id": "tXRYmDafxJb1"
      },
      "execution_count": null,
      "outputs": []
    },
    {
      "cell_type": "code",
      "source": [
        "#project_path = '/mnt/c/Python_Projects/ITMO_Bootcamp'\n",
        "points = pd.read_csv('refinded_geo_dataset.csv')"
      ],
      "metadata": {
        "id": "rkxeSAAEtZ30"
      },
      "execution_count": null,
      "outputs": []
    },
    {
      "cell_type": "code",
      "source": [],
      "metadata": {
        "id": "Ms42q4EbzrnH"
      },
      "execution_count": null,
      "outputs": []
    },
    {
      "cell_type": "code",
      "source": [
        "cb_coords_df = {'LATITUDE': [54.952542],\n",
        "                'LONGITUDE': [73.330175]\n",
        "                }\n",
        "cb_coords_df = pd.DataFrame(cb_coords_df)\n",
        "LATLON = ['LATITUDE', 'LONGITUDE']"
      ],
      "metadata": {
        "id": "qpGehB5Mta56"
      },
      "execution_count": null,
      "outputs": []
    },
    {
      "cell_type": "code",
      "source": [
        "\n",
        "def get_distance_matrix(x, y):\n",
        "    \"\"\"\n",
        "    Используется в классе Points для подсчета расстояний между всеми заказами\n",
        "    и в классе CourierMapping для подсчета расстояний между центроидами курьеров (метры?)\n",
        "    :param x: Вектор координат х\n",
        "    :param y: Вектор координат у\n",
        "    :return: Квадратная матрица расстояний (n x n) с попарными расстояниями\n",
        "    \"\"\"\n",
        "    C = torch.stack((x, y), dim=1)\n",
        "    R = torch.sum(C * C, dim=1, keepdim=True)\n",
        "    R_T = torch.transpose(R, dim0=0, dim1=1)\n",
        "    C_T = torch.transpose(C, dim0=0, dim1=1)\n",
        "    CmC_T = torch.mm(C, C_T)\n",
        "    D2 = R - 2 * CmC_T + R_T\n",
        "    D = torch.sqrt(torch.abs(D2))\n",
        "    return D.float()\n",
        "\n",
        "\n",
        "def degrees_to_radians(arr):\n",
        "    return np.pi * arr / 180"
      ],
      "metadata": {
        "id": "zMMb9Yh5ttYy"
      },
      "execution_count": null,
      "outputs": []
    },
    {
      "cell_type": "code",
      "source": [
        "points = points[:20].append(cb_coords_df)\n",
        "points_cords = [(degrees_to_radians(lat), degrees_to_radians(lon)) for lat, lon in\n",
        "                points[LATLON].values.tolist()]\n",
        "distance_matrix = haversine_distances(points_cords) * (6371000 / 1000)  # коэффицент для перевода в км#"
      ],
      "metadata": {
        "colab": {
          "base_uri": "https://localhost:8080/"
        },
        "id": "KMEXlxHPukHI",
        "outputId": "4db35ef4-f6a7-4a07-e7cd-a2c30f9a1913"
      },
      "execution_count": null,
      "outputs": [
        {
          "output_type": "stream",
          "name": "stderr",
          "text": [
            "<ipython-input-8-dfc02a54a651>:1: FutureWarning: The frame.append method is deprecated and will be removed from pandas in a future version. Use pandas.concat instead.\n",
            "  points = points[:20].append(cb_coords_df)\n"
          ]
        }
      ]
    },
    {
      "cell_type": "code",
      "source": [
        "distance_matrix"
      ],
      "metadata": {
        "id": "KupcyU2JwiJO"
      },
      "execution_count": null,
      "outputs": []
    },
    {
      "cell_type": "markdown",
      "source": [
        "\n",
        "# class RoutePoint"
      ],
      "metadata": {
        "id": "REg99ioO9M7A"
      }
    },
    {
      "cell_type": "code",
      "source": [
        "class RoutePoint:\n",
        "    \"\"\"Simple point of route\"\"\"\n",
        "\n",
        "    def __init__(self, index, deadline, lat: float = None, lon: float = None):\n",
        "\n",
        "        if not isinstance(lat, float):\n",
        "            raise TypeError(\"required float latitude value\")\n",
        "        if not isinstance(lon, float):\n",
        "            raise TypeError(\"required float longitude value\")\n",
        "\n",
        "        if deadline:\n",
        "            self.deadline = datetime.strptime(deadline, \"%Y-%m-%d %H:%M:%S.%f\")\n",
        "            self.POSIX = time.mktime(self.deadline.timetuple())\n",
        "        else:\n",
        "            self.deadline = None\n",
        "            self.POSIX = None\n",
        "\n",
        "        self.start_lat_lon = (lat, lon)\n",
        "        self.rosm_id_point = index\n",
        "        self.pos = None\n",
        "        self.vehicle_id = None\n",
        "\n",
        "\n",
        "class RoutePlannigTask:\n",
        "    \"\"\"class for route planning\"\"\"\n",
        "\n",
        "    def __init__(self, num_vehicles:int, mode=\"dist\", verbose=True):\n",
        "        self.destinations = None\n",
        "        self.origins = None\n",
        "        self.places = None\n",
        "        self.start_place = None\n",
        "        self.num_vehicles = num_vehicles\n",
        "        self.mode = mode\n",
        "        self.matrix = None\n",
        "        self.verbose = verbose\n",
        "\n",
        "        self.distance_matrix = None\n",
        "\n",
        "        self.dataset = None\n",
        "        self.solution = None\n",
        "        self.manager = None\n",
        "        self.routing = None\n",
        "        self.vert_path = None\n",
        "        self.fig = None\n",
        "        self.last_route_point_index = None\n",
        "\n",
        "    def set_params(self, start_place, origins, matrix, last_route_point_index=None):\n",
        "        \"\"\"\n",
        "        This function allow set required parameters for computing\n",
        "\n",
        "        :param start_place: list of start place\n",
        "        :param origins: list of delivety points\n",
        "        :param matrix:\n",
        "        :param last_route_point_index:\n",
        "        :return:\n",
        "        \"\"\"\n",
        "        if not isinstance(start_place, list):\n",
        "            raise TypeError(\n",
        "                f\"required list type as starting point argument but\"\n",
        "                f\" {type(start_place)} received\"\n",
        "            )\n",
        "        if not isinstance(origins, list):\n",
        "            raise TypeError(\n",
        "                f\"required list type as origins point argument but\"\n",
        "                f\" {type(origins)} received\"\n",
        "            )\n",
        "\n",
        "        if not isinstance(last_route_point_index, int) and (\n",
        "                last_route_point_index is not None\n",
        "        ):\n",
        "            raise TypeError(\n",
        "                f\"required int of last point index or None\"\n",
        "                f\" {type(last_route_point_index)} received\"\n",
        "            )\n",
        "\n",
        "        if isinstance(matrix, np.ndarray):\n",
        "            matrix = matrix.tolist()\n",
        "\n",
        "        if not isinstance(matrix, list):\n",
        "            raise TypeError(\n",
        "                f\"required distance matrix as list of lists argument but\"\n",
        "                f\" {type(origins)} received\"\n",
        "            )\n",
        "\n",
        "        # set parameters\n",
        "        self.places = origins\n",
        "        self.origins = start_place + origins\n",
        "        self.destinations = start_place + origins\n",
        "\n",
        "        self.start_place = start_place\n",
        "        self.matrix = matrix\n",
        "\n",
        "        if (last_route_point_index == 0) or (last_route_point_index is None):\n",
        "            self.last_route_point_index = None\n",
        "        else:\n",
        "            self.last_route_point_index = last_route_point_index\n",
        "\n",
        "    def _create_data_model(self):\n",
        "        \"\"\"Stores the data for the problem.\"\"\"\n",
        "\n",
        "        self.dataset = {}\n",
        "\n",
        "        if self.mode == \"dist\":\n",
        "            self.dataset[\"distance_matrix\"] = self.matrix\n",
        "\n",
        "        else:\n",
        "            raise ValueError(\"Unknown value\")\n",
        "\n",
        "        self.dataset[\"num_vehicles\"] = self.num_vehicles\n",
        "        self.dataset[\"start\"] = [0]\n",
        "        if (self.last_route_point_index is None) or (self.last_route_point_index == 0):\n",
        "            self.dataset[\"end\"] = [0]\n",
        "        else:\n",
        "\n",
        "            self.dataset[\"end\"] = [self.last_route_point_index]\n",
        "\n",
        "    def print_solution(self, data, manager, routing, solution):\n",
        "        \"\"\"Prints solution on console.\"\"\"\n",
        "\n",
        "        if self.verbose:\n",
        "            print(f\"Objective: {solution.ObjectiveValue()}\")\n",
        "        max_route_distance = 0\n",
        "        pos = 0\n",
        "        for vehicle_id in range(data[\"num_vehicles\"]):\n",
        "            index = routing.Start(vehicle_id)\n",
        "            plan_output = \"Route for vehicle {}:\\n\".format(vehicle_id)\n",
        "            route_distance = 0\n",
        "            while not routing.IsEnd(index):\n",
        "                self.origins[manager.IndexToNode(index)].pos = pos\n",
        "                self.origins[manager.IndexToNode(index)].vehicle_id = vehicle_id\n",
        "\n",
        "                plan_output += \" {} -> \".format(manager.IndexToNode(index))\n",
        "                previous_index = index\n",
        "                index = solution.Value(routing.NextVar(index))\n",
        "                route_distance += routing.GetArcCostForVehicle(\n",
        "                    previous_index, index, vehicle_id\n",
        "                )\n",
        "                pos += 1\n",
        "\n",
        "            if self.last_route_point_index is not None:\n",
        "\n",
        "                for i in range(len(self.origins)):\n",
        "                    if self.origins[i].rosm_id_point == self.last_route_point_index:\n",
        "                        self.origins[self.last_route_point_index].pos = 999\n",
        "                        self.origins[\n",
        "                            self.last_route_point_index\n",
        "                        ].vehicle_id = vehicle_id\n",
        "\n",
        "            plan_output += \"{}\\n\".format(manager.IndexToNode(index))\n",
        "            plan_output += \"Distance of the route: {}m\\n\".format(route_distance)\n",
        "            if self.verbose:\n",
        "                print(plan_output)\n",
        "            max_route_distance = max(route_distance, max_route_distance)\n",
        "        if self.verbose:\n",
        "            print(\"Maximum of the route distances: {}m\".format(max_route_distance))\n",
        "\n",
        "    def get_optimal_path(self):\n",
        "\n",
        "        \"\"\"\n",
        "        Thus function can obtain an optimal path if it exists.\n",
        "        \"\"\"\n",
        "        self._create_data_model()\n",
        "\n",
        "        self.manager = pywrapcp.RoutingIndexManager(\n",
        "            len(self.dataset[\"distance_matrix\"]),\n",
        "            self.dataset[\"num_vehicles\"],\n",
        "            self.dataset[\"start\"],\n",
        "            self.dataset[\"end\"],\n",
        "        )\n",
        "\n",
        "        self.routing = pywrapcp.RoutingModel(self.manager)\n",
        "\n",
        "        # Create and register a transit callback.\n",
        "        def distance_callback(from_index, to_index):\n",
        "            \"\"\"Returns the distance between the two nodes.\"\"\"\n",
        "            # Convert from routing variable Index to distance matrix NodeIndex.\n",
        "            from_node = self.manager.IndexToNode(from_index)\n",
        "            to_node = self.manager.IndexToNode(to_index)\n",
        "            return self.dataset[\"distance_matrix\"][from_node][to_node]\n",
        "\n",
        "        transit_callback_index = self.routing.RegisterTransitCallback(distance_callback)\n",
        "\n",
        "        # Define cost of each arc.\n",
        "        self.routing.SetArcCostEvaluatorOfAllVehicles(transit_callback_index)\n",
        "\n",
        "        # Add Distance constraint.\n",
        "        dimension_name = \"Distance\"\n",
        "        self.routing.AddDimension(\n",
        "            transit_callback_index, 0, 10000000, True, dimension_name  # no slack\n",
        "        )\n",
        "        distance_dimension = self.routing.GetDimensionOrDie(dimension_name)\n",
        "        distance_dimension.SetGlobalSpanCostCoefficient(100)\n",
        "\n",
        "        # Setting first solution heuristic.\n",
        "        search_parameters = pywrapcp.DefaultRoutingSearchParameters()\n",
        "        search_parameters.first_solution_strategy = (\n",
        "            routing_enums_pb2.FirstSolutionStrategy.PATH_CHEAPEST_ARC\n",
        "        )\n",
        "\n",
        "        # Solve the problem.\n",
        "        solution = self.routing.SolveWithParameters(search_parameters)\n",
        "\n",
        "        # Print solution on console.\n",
        "        if solution:\n",
        "            self.print_solution(self.dataset, self.manager, self.routing, solution)\n",
        "        else:\n",
        "            raise RuntimeError(\"Solution not found. Check input parameters\")\n",
        "\n",
        "        return self.origins\n",
        "\n",
        "    def plot_points(self, points, filename=\"result.html\"):\n",
        "        \"\"\"\n",
        "        Plot a route on a map.\n",
        "        param points:  Array of points\n",
        "        :param filename:  Filename to save an output\n",
        "        :return:\n",
        "        \"\"\"\n",
        "\n",
        "        # extract latitudes\n",
        "        latitude_list = [\n",
        "            i.start_lat_lon[0]\n",
        "            for i in sorted(points, key=lambda p: p.pos, reverse=False)\n",
        "        ]\n",
        "        # extract longitudes\n",
        "        longitude_list = [\n",
        "            i.start_lat_lon[1]\n",
        "            for i in sorted(points, key=lambda p: p.pos, reverse=False)\n",
        "        ]\n",
        "\n",
        "        # extract labels\n",
        "        label_list = [\n",
        "            i.rosm_id_point for i in sorted(points, key=lambda p: p.pos, reverse=False)\n",
        "        ]\n",
        "        color_list = [\"#87CEEB\"] * len(points)\n",
        "        color_list[0] = \"#98FB98\"\n",
        "\n",
        "        if (self.last_route_point_index is not None) or (\n",
        "                self.last_route_point_index != 0\n",
        "        ):\n",
        "            color_list[-1] = \"#FA8072\"\n",
        "\n",
        "        assert len(latitude_list) == len(longitude_list) == len(color_list)\n",
        "\n",
        "        gmap3 = gmplot.GoogleMapPlotter(mean(latitude_list), mean(longitude_list), 13)\n",
        "        gmap3.scatter(\n",
        "            latitude_list,\n",
        "            longitude_list,\n",
        "            size=30,\n",
        "            marker=True,\n",
        "            label=label_list,\n",
        "            color=color_list,\n",
        "        )\n",
        "        gmap3.plot(latitude_list, longitude_list, \"cornflowerblue\", edge_width=2.5)\n",
        "\n",
        "        if (self.last_route_point_index is None) or (self.last_route_point_index == 0):\n",
        "            gmap3.plot(\n",
        "                [latitude_list[-1], latitude_list[0]],\n",
        "                [longitude_list[-1], longitude_list[0]],\n",
        "                \"#D27D2D\",\n",
        "                edge_width=2.5,\n",
        "            )\n",
        "        gmap3.draw(filename)\n"
      ],
      "metadata": {
        "id": "B_NuxI7Jvf01"
      },
      "execution_count": null,
      "outputs": []
    },
    {
      "cell_type": "code",
      "source": [
        "import os\n",
        "import numpy as np\n",
        "import pandas as pd\n",
        "from sklearn.metrics.pairwise import haversine_distances\n",
        "\n",
        "\n",
        "start_point = []\n",
        "points = []\n",
        "\n",
        "coords = [(37.769901, -122.498331),\n",
        "          (37.768645, -122.475328),\n",
        "          (37.769867, -122.466102),\n",
        "          (37.767187, -122.467496),\n",
        "          (37.770104, -122.470436)]\n",
        "\n",
        "dm_for_courier = [[0, 1, 2, 3, 4],   # distance_matrix\n",
        "                       [5, 0, 6, 7, 8],\n",
        "                       [9, 10, 0, 11, 12],\n",
        "                       [13, 14, 15, 0, 16],\n",
        "                       [17, 18, 19, 20, 0],\n",
        "                       ]\n",
        "\n",
        "for index, i in enumerate(coords):\n",
        "    if index == 0:\n",
        "        point = RoutePoint(index=0, deadline=None, lat=i[0], lon=i[1])\n",
        "        start_point.append(point)\n",
        "    elif index == 1:\n",
        "        point = RoutePoint(index=0, deadline=None, lat=i[0], lon=i[1])\n",
        "        start_point.append(point)\n",
        "    else:\n",
        "        point = RoutePoint(index=index, deadline=None, lat=i[0], lon=i[1])\n",
        "        points.append(point)\n"
      ],
      "metadata": {
        "id": "DXJELXyU1qxe"
      },
      "execution_count": null,
      "outputs": []
    },
    {
      "cell_type": "code",
      "source": [
        "RoutePoint"
      ],
      "metadata": {
        "colab": {
          "base_uri": "https://localhost:8080/"
        },
        "id": "egTz-pFmlN8E",
        "outputId": "28a62e1f-bfed-4cef-fd98-58d63b4fdac9"
      },
      "execution_count": null,
      "outputs": [
        {
          "output_type": "execute_result",
          "data": {
            "text/plain": [
              "__main__.RoutePoint"
            ]
          },
          "metadata": {},
          "execution_count": 10
        }
      ]
    },
    {
      "cell_type": "code",
      "source": [
        "start_point"
      ],
      "metadata": {
        "colab": {
          "base_uri": "https://localhost:8080/"
        },
        "id": "8k3ql_a5iwkB",
        "outputId": "52483740-72b1-4ba2-ccc3-632ffb54ce88"
      },
      "execution_count": null,
      "outputs": [
        {
          "output_type": "execute_result",
          "data": {
            "text/plain": [
              "[<__main__.RoutePoint at 0x7976d0a1a3e0>,\n",
              " <__main__.RoutePoint at 0x7976d0a1a410>]"
            ]
          },
          "metadata": {},
          "execution_count": 11
        }
      ]
    },
    {
      "cell_type": "code",
      "source": [
        "points"
      ],
      "metadata": {
        "colab": {
          "base_uri": "https://localhost:8080/"
        },
        "id": "7oik2BFWizOw",
        "outputId": "a3615383-5e69-4152-b7ba-4d8a0c2e47bf"
      },
      "execution_count": null,
      "outputs": [
        {
          "output_type": "execute_result",
          "data": {
            "text/plain": [
              "[<__main__.RoutePoint at 0x7976d0a1ab90>,\n",
              " <__main__.RoutePoint at 0x7976d0a1ab00>,\n",
              " <__main__.RoutePoint at 0x7976d0a19990>]"
            ]
          },
          "metadata": {},
          "execution_count": 12
        }
      ]
    },
    {
      "cell_type": "code",
      "source": [
        "dm_for_courier"
      ],
      "metadata": {
        "colab": {
          "base_uri": "https://localhost:8080/"
        },
        "id": "7HRpzvNSi2mo",
        "outputId": "d5a0db81-f43b-4fe3-e230-0a19b65c0f59"
      },
      "execution_count": null,
      "outputs": [
        {
          "output_type": "execute_result",
          "data": {
            "text/plain": [
              "[[0, 1, 2, 3, 4],\n",
              " [5, 0, 6, 7, 8],\n",
              " [9, 10, 0, 11, 12],\n",
              " [13, 14, 15, 0, 16],\n",
              " [17, 18, 19, 20, 0]]"
            ]
          },
          "metadata": {},
          "execution_count": 13
        }
      ]
    },
    {
      "cell_type": "code",
      "source": [
        "route = RoutePlannigTask(num_vehicles=2, verbose=False)\n",
        "\n"
      ],
      "metadata": {
        "id": "zF1B9LqgivCf"
      },
      "execution_count": null,
      "outputs": []
    },
    {
      "cell_type": "code",
      "source": [
        "route"
      ],
      "metadata": {
        "colab": {
          "base_uri": "https://localhost:8080/"
        },
        "id": "9lB1EP4QlAjW",
        "outputId": "6ab8e8cb-465b-4553-dcc7-eb9bdcefbd02"
      },
      "execution_count": null,
      "outputs": [
        {
          "output_type": "execute_result",
          "data": {
            "text/plain": [
              "<__main__.RoutePlannigTask at 0x7976d0a1a8c0>"
            ]
          },
          "metadata": {},
          "execution_count": 15
        }
      ]
    },
    {
      "cell_type": "code",
      "source": [
        "route.set_params(\n",
        "    start_point, points, dm_for_courier)\n"
      ],
      "metadata": {
        "id": "QXA10TPgk--8"
      },
      "execution_count": null,
      "outputs": []
    },
    {
      "cell_type": "code",
      "source": [
        "route_points = route.get_optimal_path()\n"
      ],
      "metadata": {
        "id": "HvQLg-4BlTQz"
      },
      "execution_count": null,
      "outputs": []
    },
    {
      "cell_type": "code",
      "source": [
        "# Get optimal path for the first starting point.\n",
        "route.set_params([start_point[0]], points, dm_for_courier)\n",
        "path1 = route.get_optimal_path()\n",
        "route.plot_points(points, \"result1.html\")"
      ],
      "metadata": {
        "id": "00ADgyvbnjdI"
      },
      "execution_count": null,
      "outputs": []
    },
    {
      "cell_type": "code",
      "source": [
        "# Get optimal path for the second starting point.\n",
        "route.set_params(start_point[1], points, dm_for_courier)\n",
        "path2 = route.get_optimal_path()\n",
        "route.plot_points(points, \"result2.html\")"
      ],
      "metadata": {
        "id": "QCNTUAJwofNF"
      },
      "execution_count": null,
      "outputs": []
    },
    {
      "cell_type": "code",
      "source": [
        "route.plot_points(points, \"result.html\")"
      ],
      "metadata": {
        "id": "oJNqzquIldYU"
      },
      "execution_count": null,
      "outputs": []
    },
    {
      "cell_type": "code",
      "source": [
        "points.fillna(-1 , inplace=True)\n",
        "points['idx'] = points['Unnamed: 0'].apply(int)"
      ],
      "metadata": {
        "id": "Xw8sYZxvzmrw"
      },
      "execution_count": null,
      "outputs": []
    },
    {
      "cell_type": "code",
      "source": [
        "points = points[LATLON + ['idx']]"
      ],
      "metadata": {
        "id": "QcRj6WQ70sKl"
      },
      "execution_count": null,
      "outputs": []
    },
    {
      "cell_type": "code",
      "source": [
        "points"
      ],
      "metadata": {
        "colab": {
          "base_uri": "https://localhost:8080/",
          "height": 708
        },
        "id": "Hit_l8LLzljg",
        "outputId": "61673bfb-047b-40f3-bd31-f369b682e63d"
      },
      "execution_count": null,
      "outputs": [
        {
          "output_type": "execute_result",
          "data": {
            "text/plain": [
              "     LATITUDE  LONGITUDE  idx\n",
              "0   54.989735  73.284150    0\n",
              "1   55.016132  73.195114    1\n",
              "2   55.037613  73.268270    2\n",
              "3   55.030422  73.330430    3\n",
              "4   55.037056  73.274660    4\n",
              "5   55.016132  73.195114    5\n",
              "6   55.054520  73.220350    6\n",
              "7   55.021797  73.431580    7\n",
              "8   55.054520  73.220350    8\n",
              "9   55.031464  73.267290    9\n",
              "10  55.007668  73.335710   10\n",
              "11  54.938107  73.375760   11\n",
              "12  55.030130  73.475830   12\n",
              "13  55.005730  73.342790   13\n",
              "14  55.011837  73.328220   14\n",
              "15  55.007380  73.335940   15\n",
              "16  54.963173  73.386765   16\n",
              "17  54.996540  73.239334   17\n",
              "18  54.957560  73.430050   18\n",
              "19  54.955288  73.334880   19\n",
              "0   54.952542  73.330175   -1"
            ],
            "text/html": [
              "\n",
              "  <div id=\"df-391859e3-72f9-4811-b97f-97491b0f1673\" class=\"colab-df-container\">\n",
              "    <div>\n",
              "<style scoped>\n",
              "    .dataframe tbody tr th:only-of-type {\n",
              "        vertical-align: middle;\n",
              "    }\n",
              "\n",
              "    .dataframe tbody tr th {\n",
              "        vertical-align: top;\n",
              "    }\n",
              "\n",
              "    .dataframe thead th {\n",
              "        text-align: right;\n",
              "    }\n",
              "</style>\n",
              "<table border=\"1\" class=\"dataframe\">\n",
              "  <thead>\n",
              "    <tr style=\"text-align: right;\">\n",
              "      <th></th>\n",
              "      <th>LATITUDE</th>\n",
              "      <th>LONGITUDE</th>\n",
              "      <th>idx</th>\n",
              "    </tr>\n",
              "  </thead>\n",
              "  <tbody>\n",
              "    <tr>\n",
              "      <th>0</th>\n",
              "      <td>54.989735</td>\n",
              "      <td>73.284150</td>\n",
              "      <td>0</td>\n",
              "    </tr>\n",
              "    <tr>\n",
              "      <th>1</th>\n",
              "      <td>55.016132</td>\n",
              "      <td>73.195114</td>\n",
              "      <td>1</td>\n",
              "    </tr>\n",
              "    <tr>\n",
              "      <th>2</th>\n",
              "      <td>55.037613</td>\n",
              "      <td>73.268270</td>\n",
              "      <td>2</td>\n",
              "    </tr>\n",
              "    <tr>\n",
              "      <th>3</th>\n",
              "      <td>55.030422</td>\n",
              "      <td>73.330430</td>\n",
              "      <td>3</td>\n",
              "    </tr>\n",
              "    <tr>\n",
              "      <th>4</th>\n",
              "      <td>55.037056</td>\n",
              "      <td>73.274660</td>\n",
              "      <td>4</td>\n",
              "    </tr>\n",
              "    <tr>\n",
              "      <th>5</th>\n",
              "      <td>55.016132</td>\n",
              "      <td>73.195114</td>\n",
              "      <td>5</td>\n",
              "    </tr>\n",
              "    <tr>\n",
              "      <th>6</th>\n",
              "      <td>55.054520</td>\n",
              "      <td>73.220350</td>\n",
              "      <td>6</td>\n",
              "    </tr>\n",
              "    <tr>\n",
              "      <th>7</th>\n",
              "      <td>55.021797</td>\n",
              "      <td>73.431580</td>\n",
              "      <td>7</td>\n",
              "    </tr>\n",
              "    <tr>\n",
              "      <th>8</th>\n",
              "      <td>55.054520</td>\n",
              "      <td>73.220350</td>\n",
              "      <td>8</td>\n",
              "    </tr>\n",
              "    <tr>\n",
              "      <th>9</th>\n",
              "      <td>55.031464</td>\n",
              "      <td>73.267290</td>\n",
              "      <td>9</td>\n",
              "    </tr>\n",
              "    <tr>\n",
              "      <th>10</th>\n",
              "      <td>55.007668</td>\n",
              "      <td>73.335710</td>\n",
              "      <td>10</td>\n",
              "    </tr>\n",
              "    <tr>\n",
              "      <th>11</th>\n",
              "      <td>54.938107</td>\n",
              "      <td>73.375760</td>\n",
              "      <td>11</td>\n",
              "    </tr>\n",
              "    <tr>\n",
              "      <th>12</th>\n",
              "      <td>55.030130</td>\n",
              "      <td>73.475830</td>\n",
              "      <td>12</td>\n",
              "    </tr>\n",
              "    <tr>\n",
              "      <th>13</th>\n",
              "      <td>55.005730</td>\n",
              "      <td>73.342790</td>\n",
              "      <td>13</td>\n",
              "    </tr>\n",
              "    <tr>\n",
              "      <th>14</th>\n",
              "      <td>55.011837</td>\n",
              "      <td>73.328220</td>\n",
              "      <td>14</td>\n",
              "    </tr>\n",
              "    <tr>\n",
              "      <th>15</th>\n",
              "      <td>55.007380</td>\n",
              "      <td>73.335940</td>\n",
              "      <td>15</td>\n",
              "    </tr>\n",
              "    <tr>\n",
              "      <th>16</th>\n",
              "      <td>54.963173</td>\n",
              "      <td>73.386765</td>\n",
              "      <td>16</td>\n",
              "    </tr>\n",
              "    <tr>\n",
              "      <th>17</th>\n",
              "      <td>54.996540</td>\n",
              "      <td>73.239334</td>\n",
              "      <td>17</td>\n",
              "    </tr>\n",
              "    <tr>\n",
              "      <th>18</th>\n",
              "      <td>54.957560</td>\n",
              "      <td>73.430050</td>\n",
              "      <td>18</td>\n",
              "    </tr>\n",
              "    <tr>\n",
              "      <th>19</th>\n",
              "      <td>54.955288</td>\n",
              "      <td>73.334880</td>\n",
              "      <td>19</td>\n",
              "    </tr>\n",
              "    <tr>\n",
              "      <th>0</th>\n",
              "      <td>54.952542</td>\n",
              "      <td>73.330175</td>\n",
              "      <td>-1</td>\n",
              "    </tr>\n",
              "  </tbody>\n",
              "</table>\n",
              "</div>\n",
              "    <div class=\"colab-df-buttons\">\n",
              "\n",
              "  <div class=\"colab-df-container\">\n",
              "    <button class=\"colab-df-convert\" onclick=\"convertToInteractive('df-391859e3-72f9-4811-b97f-97491b0f1673')\"\n",
              "            title=\"Convert this dataframe to an interactive table.\"\n",
              "            style=\"display:none;\">\n",
              "\n",
              "  <svg xmlns=\"http://www.w3.org/2000/svg\" height=\"24px\" viewBox=\"0 -960 960 960\">\n",
              "    <path d=\"M120-120v-720h720v720H120Zm60-500h600v-160H180v160Zm220 220h160v-160H400v160Zm0 220h160v-160H400v160ZM180-400h160v-160H180v160Zm440 0h160v-160H620v160ZM180-180h160v-160H180v160Zm440 0h160v-160H620v160Z\"/>\n",
              "  </svg>\n",
              "    </button>\n",
              "\n",
              "  <style>\n",
              "    .colab-df-container {\n",
              "      display:flex;\n",
              "      gap: 12px;\n",
              "    }\n",
              "\n",
              "    .colab-df-convert {\n",
              "      background-color: #E8F0FE;\n",
              "      border: none;\n",
              "      border-radius: 50%;\n",
              "      cursor: pointer;\n",
              "      display: none;\n",
              "      fill: #1967D2;\n",
              "      height: 32px;\n",
              "      padding: 0 0 0 0;\n",
              "      width: 32px;\n",
              "    }\n",
              "\n",
              "    .colab-df-convert:hover {\n",
              "      background-color: #E2EBFA;\n",
              "      box-shadow: 0px 1px 2px rgba(60, 64, 67, 0.3), 0px 1px 3px 1px rgba(60, 64, 67, 0.15);\n",
              "      fill: #174EA6;\n",
              "    }\n",
              "\n",
              "    .colab-df-buttons div {\n",
              "      margin-bottom: 4px;\n",
              "    }\n",
              "\n",
              "    [theme=dark] .colab-df-convert {\n",
              "      background-color: #3B4455;\n",
              "      fill: #D2E3FC;\n",
              "    }\n",
              "\n",
              "    [theme=dark] .colab-df-convert:hover {\n",
              "      background-color: #434B5C;\n",
              "      box-shadow: 0px 1px 3px 1px rgba(0, 0, 0, 0.15);\n",
              "      filter: drop-shadow(0px 1px 2px rgba(0, 0, 0, 0.3));\n",
              "      fill: #FFFFFF;\n",
              "    }\n",
              "  </style>\n",
              "\n",
              "    <script>\n",
              "      const buttonEl =\n",
              "        document.querySelector('#df-391859e3-72f9-4811-b97f-97491b0f1673 button.colab-df-convert');\n",
              "      buttonEl.style.display =\n",
              "        google.colab.kernel.accessAllowed ? 'block' : 'none';\n",
              "\n",
              "      async function convertToInteractive(key) {\n",
              "        const element = document.querySelector('#df-391859e3-72f9-4811-b97f-97491b0f1673');\n",
              "        const dataTable =\n",
              "          await google.colab.kernel.invokeFunction('convertToInteractive',\n",
              "                                                    [key], {});\n",
              "        if (!dataTable) return;\n",
              "\n",
              "        const docLinkHtml = 'Like what you see? Visit the ' +\n",
              "          '<a target=\"_blank\" href=https://colab.research.google.com/notebooks/data_table.ipynb>data table notebook</a>'\n",
              "          + ' to learn more about interactive tables.';\n",
              "        element.innerHTML = '';\n",
              "        dataTable['output_type'] = 'display_data';\n",
              "        await google.colab.output.renderOutput(dataTable, element);\n",
              "        const docLink = document.createElement('div');\n",
              "        docLink.innerHTML = docLinkHtml;\n",
              "        element.appendChild(docLink);\n",
              "      }\n",
              "    </script>\n",
              "  </div>\n",
              "\n",
              "\n",
              "<div id=\"df-66fcdafc-a2fa-42d1-b676-db6d666a612c\">\n",
              "  <button class=\"colab-df-quickchart\" onclick=\"quickchart('df-66fcdafc-a2fa-42d1-b676-db6d666a612c')\"\n",
              "            title=\"Suggest charts.\"\n",
              "            style=\"display:none;\">\n",
              "\n",
              "<svg xmlns=\"http://www.w3.org/2000/svg\" height=\"24px\"viewBox=\"0 0 24 24\"\n",
              "     width=\"24px\">\n",
              "    <g>\n",
              "        <path d=\"M19 3H5c-1.1 0-2 .9-2 2v14c0 1.1.9 2 2 2h14c1.1 0 2-.9 2-2V5c0-1.1-.9-2-2-2zM9 17H7v-7h2v7zm4 0h-2V7h2v10zm4 0h-2v-4h2v4z\"/>\n",
              "    </g>\n",
              "</svg>\n",
              "  </button>\n",
              "\n",
              "<style>\n",
              "  .colab-df-quickchart {\n",
              "      --bg-color: #E8F0FE;\n",
              "      --fill-color: #1967D2;\n",
              "      --hover-bg-color: #E2EBFA;\n",
              "      --hover-fill-color: #174EA6;\n",
              "      --disabled-fill-color: #AAA;\n",
              "      --disabled-bg-color: #DDD;\n",
              "  }\n",
              "\n",
              "  [theme=dark] .colab-df-quickchart {\n",
              "      --bg-color: #3B4455;\n",
              "      --fill-color: #D2E3FC;\n",
              "      --hover-bg-color: #434B5C;\n",
              "      --hover-fill-color: #FFFFFF;\n",
              "      --disabled-bg-color: #3B4455;\n",
              "      --disabled-fill-color: #666;\n",
              "  }\n",
              "\n",
              "  .colab-df-quickchart {\n",
              "    background-color: var(--bg-color);\n",
              "    border: none;\n",
              "    border-radius: 50%;\n",
              "    cursor: pointer;\n",
              "    display: none;\n",
              "    fill: var(--fill-color);\n",
              "    height: 32px;\n",
              "    padding: 0;\n",
              "    width: 32px;\n",
              "  }\n",
              "\n",
              "  .colab-df-quickchart:hover {\n",
              "    background-color: var(--hover-bg-color);\n",
              "    box-shadow: 0 1px 2px rgba(60, 64, 67, 0.3), 0 1px 3px 1px rgba(60, 64, 67, 0.15);\n",
              "    fill: var(--button-hover-fill-color);\n",
              "  }\n",
              "\n",
              "  .colab-df-quickchart-complete:disabled,\n",
              "  .colab-df-quickchart-complete:disabled:hover {\n",
              "    background-color: var(--disabled-bg-color);\n",
              "    fill: var(--disabled-fill-color);\n",
              "    box-shadow: none;\n",
              "  }\n",
              "\n",
              "  .colab-df-spinner {\n",
              "    border: 2px solid var(--fill-color);\n",
              "    border-color: transparent;\n",
              "    border-bottom-color: var(--fill-color);\n",
              "    animation:\n",
              "      spin 1s steps(1) infinite;\n",
              "  }\n",
              "\n",
              "  @keyframes spin {\n",
              "    0% {\n",
              "      border-color: transparent;\n",
              "      border-bottom-color: var(--fill-color);\n",
              "      border-left-color: var(--fill-color);\n",
              "    }\n",
              "    20% {\n",
              "      border-color: transparent;\n",
              "      border-left-color: var(--fill-color);\n",
              "      border-top-color: var(--fill-color);\n",
              "    }\n",
              "    30% {\n",
              "      border-color: transparent;\n",
              "      border-left-color: var(--fill-color);\n",
              "      border-top-color: var(--fill-color);\n",
              "      border-right-color: var(--fill-color);\n",
              "    }\n",
              "    40% {\n",
              "      border-color: transparent;\n",
              "      border-right-color: var(--fill-color);\n",
              "      border-top-color: var(--fill-color);\n",
              "    }\n",
              "    60% {\n",
              "      border-color: transparent;\n",
              "      border-right-color: var(--fill-color);\n",
              "    }\n",
              "    80% {\n",
              "      border-color: transparent;\n",
              "      border-right-color: var(--fill-color);\n",
              "      border-bottom-color: var(--fill-color);\n",
              "    }\n",
              "    90% {\n",
              "      border-color: transparent;\n",
              "      border-bottom-color: var(--fill-color);\n",
              "    }\n",
              "  }\n",
              "</style>\n",
              "\n",
              "  <script>\n",
              "    async function quickchart(key) {\n",
              "      const quickchartButtonEl =\n",
              "        document.querySelector('#' + key + ' button');\n",
              "      quickchartButtonEl.disabled = true;  // To prevent multiple clicks.\n",
              "      quickchartButtonEl.classList.add('colab-df-spinner');\n",
              "      try {\n",
              "        const charts = await google.colab.kernel.invokeFunction(\n",
              "            'suggestCharts', [key], {});\n",
              "      } catch (error) {\n",
              "        console.error('Error during call to suggestCharts:', error);\n",
              "      }\n",
              "      quickchartButtonEl.classList.remove('colab-df-spinner');\n",
              "      quickchartButtonEl.classList.add('colab-df-quickchart-complete');\n",
              "    }\n",
              "    (() => {\n",
              "      let quickchartButtonEl =\n",
              "        document.querySelector('#df-66fcdafc-a2fa-42d1-b676-db6d666a612c button');\n",
              "      quickchartButtonEl.style.display =\n",
              "        google.colab.kernel.accessAllowed ? 'block' : 'none';\n",
              "    })();\n",
              "  </script>\n",
              "</div>\n",
              "    </div>\n",
              "  </div>\n"
            ]
          },
          "metadata": {},
          "execution_count": 14
        }
      ]
    },
    {
      "cell_type": "code",
      "source": [
        "cb_coords_df.loc[0, LATLON[0]]"
      ],
      "metadata": {
        "colab": {
          "base_uri": "https://localhost:8080/"
        },
        "id": "5oh3HKmr5LUX",
        "outputId": "bbe04f02-7193-47d8-9996-2aeb11243130"
      },
      "execution_count": null,
      "outputs": [
        {
          "output_type": "execute_result",
          "data": {
            "text/plain": [
              "54.952542"
            ]
          },
          "metadata": {},
          "execution_count": 15
        }
      ]
    },
    {
      "cell_type": "code",
      "source": [
        "start_point = [RoutePoint(index=-1,\n",
        "                          deadline=None,\n",
        "                          lat=cb_coords_df.loc[0, LATLON[0]],\n",
        "                          lon=cb_coords_df.loc[0, LATLON[1]])]\n",
        "start_point"
      ],
      "metadata": {
        "colab": {
          "base_uri": "https://localhost:8080/"
        },
        "id": "1AI5ETn6-lhj",
        "outputId": "629bf9c5-ba43-4329-ff78-ed5e0d5d4044"
      },
      "execution_count": null,
      "outputs": [
        {
          "output_type": "execute_result",
          "data": {
            "text/plain": [
              "[<__main__.RoutePoint at 0x784e8f5654b0>]"
            ]
          },
          "metadata": {},
          "execution_count": 18
        }
      ]
    },
    {
      "cell_type": "code",
      "source": [
        "points[[\"idx\"] + LATLON][:-1].values.tolist()"
      ],
      "metadata": {
        "id": "EPCRa5Cu9_Lm"
      },
      "execution_count": null,
      "outputs": []
    },
    {
      "cell_type": "code",
      "source": [
        "\n",
        "## Созданиие маршрутов\n",
        "print(\"Создаем маршруты\")\n",
        "dm = distance_matrix # distance_matrix\n",
        "# dm = points_obj.haversine_distance_matrix\n",
        "# кб / index = -1, Влияет на метод points_obj.predict_to_orders()\n",
        "start_point = [RoutePoint(index=-1,\n",
        "                          deadline=None,\n",
        "                          lat=cb_coords_df.loc[0, LATLON[0]],\n",
        "                          lon=cb_coords_df.loc[0, LATLON[1]])]\n",
        "\n",
        "courier_task = []\n",
        "df = points\n",
        "\n",
        "for index, lat, lon in df[[\"idx\"] + LATLON][:-1].values.tolist():\n",
        "    point = RoutePoint(index=int(index), deadline=None, lat=lat, lon=lon)\n",
        "    print(int(index), lat, lon)\n",
        "    print(point)\n",
        "    courier_task.append(point)\n",
        "\n",
        "route = RoutePlannigTask(num_vehicles=9, verbose=True)\n",
        "\n",
        "route.set_params(start_point*9,\n",
        "                  courier_task,\n",
        "                  dm.tolist(),\n",
        "                 #last_route_point_index=11\n",
        "                )\n",
        "\n",
        "courier_task = route.get_optimal_path()\n",
        "\n",
        "route.plot_points(courier_task, \"{}.html\".format(\"test\"))\n"
      ],
      "metadata": {
        "id": "lXusy1oHxbLD"
      },
      "execution_count": null,
      "outputs": []
    },
    {
      "cell_type": "code",
      "source": [],
      "metadata": {
        "id": "DVbtsvs8AcfO"
      },
      "execution_count": null,
      "outputs": []
    }
  ]
}